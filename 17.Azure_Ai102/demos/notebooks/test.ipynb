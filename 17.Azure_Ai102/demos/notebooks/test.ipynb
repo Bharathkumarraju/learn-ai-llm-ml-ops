{
 "cells": [
  {
   "cell_type": "code",
   "execution_count": 1,
   "id": "cf5b651d-c68d-48ad-8d71-f7510efcbcc7",
   "metadata": {
    "tags": []
   },
   "outputs": [
    {
     "name": "stdout",
     "output_type": "stream",
     "text": [
      "/mnt/batch/tasks/shared/LS_root/mounts/clusters/bharths-ml-notebook/code\n"
     ]
    }
   ],
   "source": [
    "import os\n",
    "print(os.getcwd())"
   ]
  },
  {
   "cell_type": "code",
   "execution_count": 2,
   "id": "eb1b6c26-db3e-404d-bb5c-573e1e9b965c",
   "metadata": {
    "tags": []
   },
   "outputs": [
    {
     "name": "stdout",
     "output_type": "stream",
     "text": [
      "['.ipynb_checkpoints', 'Logs', 'test.ipynb', 'Users']\n"
     ]
    }
   ],
   "source": [
    "import os\n",
    "print(os.listdir())"
   ]
  },
  {
   "cell_type": "code",
   "execution_count": 3,
   "id": "9261753c-5611-4c2c-93df-5409e69842ad",
   "metadata": {
    "tags": []
   },
   "outputs": [
    {
     "name": "stdout",
     "output_type": "stream",
     "text": [
      "Collecting azure-ai-translation-text\n",
      "  Downloading azure_ai_translation_text-1.0.1-py3-none-any.whl.metadata (18 kB)\n",
      "Requirement already satisfied: isodate>=0.6.1 in /anaconda/envs/azureml_py310_sdkv2/lib/python3.10/site-packages (from azure-ai-translation-text) (0.6.1)\n",
      "Requirement already satisfied: azure-core>=1.30.0 in /anaconda/envs/azureml_py310_sdkv2/lib/python3.10/site-packages (from azure-ai-translation-text) (1.31.0)\n",
      "Requirement already satisfied: typing-extensions>=4.6.0 in /anaconda/envs/azureml_py310_sdkv2/lib/python3.10/site-packages (from azure-ai-translation-text) (4.12.2)\n",
      "Requirement already satisfied: requests>=2.21.0 in /anaconda/envs/azureml_py310_sdkv2/lib/python3.10/site-packages (from azure-core>=1.30.0->azure-ai-translation-text) (2.32.3)\n",
      "Requirement already satisfied: six>=1.11.0 in /anaconda/envs/azureml_py310_sdkv2/lib/python3.10/site-packages (from azure-core>=1.30.0->azure-ai-translation-text) (1.16.0)\n",
      "Requirement already satisfied: charset-normalizer<4,>=2 in /anaconda/envs/azureml_py310_sdkv2/lib/python3.10/site-packages (from requests>=2.21.0->azure-core>=1.30.0->azure-ai-translation-text) (3.3.2)\n",
      "Requirement already satisfied: idna<4,>=2.5 in /anaconda/envs/azureml_py310_sdkv2/lib/python3.10/site-packages (from requests>=2.21.0->azure-core>=1.30.0->azure-ai-translation-text) (3.10)\n",
      "Requirement already satisfied: urllib3<3,>=1.21.1 in /anaconda/envs/azureml_py310_sdkv2/lib/python3.10/site-packages (from requests>=2.21.0->azure-core>=1.30.0->azure-ai-translation-text) (2.2.3)\n",
      "Requirement already satisfied: certifi>=2017.4.17 in /anaconda/envs/azureml_py310_sdkv2/lib/python3.10/site-packages (from requests>=2.21.0->azure-core>=1.30.0->azure-ai-translation-text) (2024.8.30)\n",
      "Downloading azure_ai_translation_text-1.0.1-py3-none-any.whl (87 kB)\n",
      "Installing collected packages: azure-ai-translation-text\n",
      "Successfully installed azure-ai-translation-text-1.0.1\n",
      "Note: you may need to restart the kernel to use updated packages.\n"
     ]
    }
   ],
   "source": [
    "%pip install azure-ai-translation-text"
   ]
  },
  {
   "cell_type": "code",
   "execution_count": 6,
   "id": "51471dcd-5d3a-4d9c-8adc-103d5cc8ae29",
   "metadata": {
    "tags": []
   },
   "outputs": [],
   "source": [
    "from azure.ai.translation.text import TextTranslationClient\n",
    "from azure.core.credentials import AzureKeyCredential"
   ]
  },
  {
   "cell_type": "code",
   "execution_count": 9,
   "id": "d1a8633c-70da-4043-9ce1-37aef08fb495",
   "metadata": {
    "tags": []
   },
   "outputs": [
    {
     "ename": "TypeError",
     "evalue": "Session.request() got an unexpected keyword argument 'from_parameter'",
     "output_type": "error",
     "traceback": [
      "\u001b[0;31m---------------------------------------------------------------------------\u001b[0m",
      "\u001b[0;31mTypeError\u001b[0m                                 Traceback (most recent call last)",
      "Cell \u001b[0;32mIn[9], line 20\u001b[0m\n\u001b[1;32m     17\u001b[0m body \u001b[38;5;241m=\u001b[39m [{\u001b[38;5;124m\"\u001b[39m\u001b[38;5;124mtext\u001b[39m\u001b[38;5;124m\"\u001b[39m: \u001b[38;5;124m\"\u001b[39m\u001b[38;5;124mGood morning!\u001b[39m\u001b[38;5;124m\"\u001b[39m}]\n\u001b[1;32m     19\u001b[0m \u001b[38;5;66;03m# Translate\u001b[39;00m\n\u001b[0;32m---> 20\u001b[0m response \u001b[38;5;241m=\u001b[39m \u001b[43mclient\u001b[49m\u001b[38;5;241;43m.\u001b[39;49m\u001b[43mtranslate\u001b[49m\u001b[43m(\u001b[49m\n\u001b[1;32m     21\u001b[0m \u001b[43m    \u001b[49m\u001b[43mbody\u001b[49m\u001b[38;5;241;43m=\u001b[39;49m\u001b[43mbody\u001b[49m\u001b[43m,\u001b[49m\n\u001b[1;32m     22\u001b[0m \u001b[43m    \u001b[49m\u001b[43mto_language\u001b[49m\u001b[38;5;241;43m=\u001b[39;49m\u001b[43m[\u001b[49m\u001b[38;5;124;43m\"\u001b[39;49m\u001b[38;5;124;43mfr\u001b[39;49m\u001b[38;5;124;43m\"\u001b[39;49m\u001b[43m,\u001b[49m\u001b[43m \u001b[49m\u001b[38;5;124;43m\"\u001b[39;49m\u001b[38;5;124;43mes\u001b[39;49m\u001b[38;5;124;43m\"\u001b[39;49m\u001b[43m]\u001b[49m\u001b[43m,\u001b[49m\n\u001b[1;32m     23\u001b[0m \u001b[43m    \u001b[49m\u001b[43mfrom_parameter\u001b[49m\u001b[38;5;241;43m=\u001b[39;49m\u001b[38;5;124;43m\"\u001b[39;49m\u001b[38;5;124;43men\u001b[39;49m\u001b[38;5;124;43m\"\u001b[39;49m\n\u001b[1;32m     24\u001b[0m \u001b[43m)\u001b[49m\n\u001b[1;32m     26\u001b[0m \u001b[38;5;66;03m# Output results\u001b[39;00m\n\u001b[1;32m     27\u001b[0m \u001b[38;5;28;01mfor\u001b[39;00m item \u001b[38;5;129;01min\u001b[39;00m response:\n",
      "File \u001b[0;32m/anaconda/envs/azureml_py310_sdkv2/lib/python3.10/site-packages/azure/ai/translation/text/_operations/_patch.py:564\u001b[0m, in \u001b[0;36mTextTranslationClientOperationsMixin.translate\u001b[0;34m(self, body, to_language, client_trace_id, from_language, text_type, category, profanity_action, profanity_marker, include_alignment, include_sentence_length, suggested_from, from_script, to_script, allow_fallback, **kwargs)\u001b[0m\n\u001b[1;32m    561\u001b[0m \u001b[38;5;28;01melse\u001b[39;00m:\n\u001b[1;32m    562\u001b[0m     request_body \u001b[38;5;241m=\u001b[39m cast(Union[List[_models\u001b[38;5;241m.\u001b[39mInputTextItem], IO[\u001b[38;5;28mbytes\u001b[39m]], body)\n\u001b[0;32m--> 564\u001b[0m \u001b[38;5;28;01mreturn\u001b[39;00m \u001b[38;5;28;43msuper\u001b[39;49m\u001b[43m(\u001b[49m\u001b[43m)\u001b[49m\u001b[38;5;241;43m.\u001b[39;49m\u001b[43mtranslate\u001b[49m\u001b[43m(\u001b[49m\n\u001b[1;32m    565\u001b[0m \u001b[43m    \u001b[49m\u001b[43mbody\u001b[49m\u001b[38;5;241;43m=\u001b[39;49m\u001b[43mrequest_body\u001b[49m\u001b[43m,\u001b[49m\n\u001b[1;32m    566\u001b[0m \u001b[43m    \u001b[49m\u001b[43mto_language\u001b[49m\u001b[38;5;241;43m=\u001b[39;49m\u001b[43mto_language\u001b[49m\u001b[43m,\u001b[49m\n\u001b[1;32m    567\u001b[0m \u001b[43m    \u001b[49m\u001b[43mclient_trace_id\u001b[49m\u001b[38;5;241;43m=\u001b[39;49m\u001b[43mclient_trace_id\u001b[49m\u001b[43m,\u001b[49m\n\u001b[1;32m    568\u001b[0m \u001b[43m    \u001b[49m\u001b[43mfrom_language\u001b[49m\u001b[38;5;241;43m=\u001b[39;49m\u001b[43mfrom_language\u001b[49m\u001b[43m,\u001b[49m\n\u001b[1;32m    569\u001b[0m \u001b[43m    \u001b[49m\u001b[43mtext_type\u001b[49m\u001b[38;5;241;43m=\u001b[39;49m\u001b[43mtext_type\u001b[49m\u001b[43m,\u001b[49m\n\u001b[1;32m    570\u001b[0m \u001b[43m    \u001b[49m\u001b[43mcategory\u001b[49m\u001b[38;5;241;43m=\u001b[39;49m\u001b[43mcategory\u001b[49m\u001b[43m,\u001b[49m\n\u001b[1;32m    571\u001b[0m \u001b[43m    \u001b[49m\u001b[43mprofanity_action\u001b[49m\u001b[38;5;241;43m=\u001b[39;49m\u001b[43mprofanity_action\u001b[49m\u001b[43m,\u001b[49m\n\u001b[1;32m    572\u001b[0m \u001b[43m    \u001b[49m\u001b[43mprofanity_marker\u001b[49m\u001b[38;5;241;43m=\u001b[39;49m\u001b[43mprofanity_marker\u001b[49m\u001b[43m,\u001b[49m\n\u001b[1;32m    573\u001b[0m \u001b[43m    \u001b[49m\u001b[43minclude_alignment\u001b[49m\u001b[38;5;241;43m=\u001b[39;49m\u001b[43minclude_alignment\u001b[49m\u001b[43m,\u001b[49m\n\u001b[1;32m    574\u001b[0m \u001b[43m    \u001b[49m\u001b[43minclude_sentence_length\u001b[49m\u001b[38;5;241;43m=\u001b[39;49m\u001b[43minclude_sentence_length\u001b[49m\u001b[43m,\u001b[49m\n\u001b[1;32m    575\u001b[0m \u001b[43m    \u001b[49m\u001b[43msuggested_from\u001b[49m\u001b[38;5;241;43m=\u001b[39;49m\u001b[43msuggested_from\u001b[49m\u001b[43m,\u001b[49m\n\u001b[1;32m    576\u001b[0m \u001b[43m    \u001b[49m\u001b[43mfrom_script\u001b[49m\u001b[38;5;241;43m=\u001b[39;49m\u001b[43mfrom_script\u001b[49m\u001b[43m,\u001b[49m\n\u001b[1;32m    577\u001b[0m \u001b[43m    \u001b[49m\u001b[43mto_script\u001b[49m\u001b[38;5;241;43m=\u001b[39;49m\u001b[43mto_script\u001b[49m\u001b[43m,\u001b[49m\n\u001b[1;32m    578\u001b[0m \u001b[43m    \u001b[49m\u001b[43mallow_fallback\u001b[49m\u001b[38;5;241;43m=\u001b[39;49m\u001b[43mallow_fallback\u001b[49m\u001b[43m,\u001b[49m\n\u001b[1;32m    579\u001b[0m \u001b[43m    \u001b[49m\u001b[38;5;241;43m*\u001b[39;49m\u001b[38;5;241;43m*\u001b[39;49m\u001b[43mkwargs\u001b[49m\n\u001b[1;32m    580\u001b[0m \u001b[43m\u001b[49m\u001b[43m)\u001b[49m\n",
      "File \u001b[0;32m/anaconda/envs/azureml_py310_sdkv2/lib/python3.10/site-packages/azure/core/tracing/decorator.py:94\u001b[0m, in \u001b[0;36mdistributed_trace.<locals>.decorator.<locals>.wrapper_use_tracer\u001b[0;34m(*args, **kwargs)\u001b[0m\n\u001b[1;32m     92\u001b[0m span_impl_type \u001b[38;5;241m=\u001b[39m settings\u001b[38;5;241m.\u001b[39mtracing_implementation()\n\u001b[1;32m     93\u001b[0m \u001b[38;5;28;01mif\u001b[39;00m span_impl_type \u001b[38;5;129;01mis\u001b[39;00m \u001b[38;5;28;01mNone\u001b[39;00m:\n\u001b[0;32m---> 94\u001b[0m     \u001b[38;5;28;01mreturn\u001b[39;00m \u001b[43mfunc\u001b[49m\u001b[43m(\u001b[49m\u001b[38;5;241;43m*\u001b[39;49m\u001b[43margs\u001b[49m\u001b[43m,\u001b[49m\u001b[43m \u001b[49m\u001b[38;5;241;43m*\u001b[39;49m\u001b[38;5;241;43m*\u001b[39;49m\u001b[43mkwargs\u001b[49m\u001b[43m)\u001b[49m\n\u001b[1;32m     96\u001b[0m \u001b[38;5;66;03m# Merge span is parameter is set, but only if no explicit parent are passed\u001b[39;00m\n\u001b[1;32m     97\u001b[0m \u001b[38;5;28;01mif\u001b[39;00m merge_span \u001b[38;5;129;01mand\u001b[39;00m \u001b[38;5;129;01mnot\u001b[39;00m passed_in_parent:\n",
      "File \u001b[0;32m/anaconda/envs/azureml_py310_sdkv2/lib/python3.10/site-packages/azure/ai/translation/text/_operations/_operations.py:1015\u001b[0m, in \u001b[0;36mTextTranslationClientOperationsMixin.translate\u001b[0;34m(self, body, to_language, client_trace_id, from_language, text_type, category, profanity_action, profanity_marker, include_alignment, include_sentence_length, suggested_from, from_script, to_script, allow_fallback, **kwargs)\u001b[0m\n\u001b[1;32m   1012\u001b[0m _request\u001b[38;5;241m.\u001b[39murl \u001b[38;5;241m=\u001b[39m \u001b[38;5;28mself\u001b[39m\u001b[38;5;241m.\u001b[39m_client\u001b[38;5;241m.\u001b[39mformat_url(_request\u001b[38;5;241m.\u001b[39murl, \u001b[38;5;241m*\u001b[39m\u001b[38;5;241m*\u001b[39mpath_format_arguments)\n\u001b[1;32m   1014\u001b[0m _stream \u001b[38;5;241m=\u001b[39m kwargs\u001b[38;5;241m.\u001b[39mpop(\u001b[38;5;124m\"\u001b[39m\u001b[38;5;124mstream\u001b[39m\u001b[38;5;124m\"\u001b[39m, \u001b[38;5;28;01mFalse\u001b[39;00m)\n\u001b[0;32m-> 1015\u001b[0m pipeline_response: PipelineResponse \u001b[38;5;241m=\u001b[39m \u001b[38;5;28;43mself\u001b[39;49m\u001b[38;5;241;43m.\u001b[39;49m\u001b[43m_client\u001b[49m\u001b[38;5;241;43m.\u001b[39;49m\u001b[43m_pipeline\u001b[49m\u001b[38;5;241;43m.\u001b[39;49m\u001b[43mrun\u001b[49m\u001b[43m(\u001b[49m\u001b[43m  \u001b[49m\u001b[38;5;66;43;03m# pylint: disable=protected-access\u001b[39;49;00m\n\u001b[1;32m   1016\u001b[0m \u001b[43m    \u001b[49m\u001b[43m_request\u001b[49m\u001b[43m,\u001b[49m\u001b[43m \u001b[49m\u001b[43mstream\u001b[49m\u001b[38;5;241;43m=\u001b[39;49m\u001b[43m_stream\u001b[49m\u001b[43m,\u001b[49m\u001b[43m \u001b[49m\u001b[38;5;241;43m*\u001b[39;49m\u001b[38;5;241;43m*\u001b[39;49m\u001b[43mkwargs\u001b[49m\n\u001b[1;32m   1017\u001b[0m \u001b[43m\u001b[49m\u001b[43m)\u001b[49m\n\u001b[1;32m   1019\u001b[0m response \u001b[38;5;241m=\u001b[39m pipeline_response\u001b[38;5;241m.\u001b[39mhttp_response\n\u001b[1;32m   1021\u001b[0m \u001b[38;5;28;01mif\u001b[39;00m response\u001b[38;5;241m.\u001b[39mstatus_code \u001b[38;5;129;01mnot\u001b[39;00m \u001b[38;5;129;01min\u001b[39;00m [\u001b[38;5;241m200\u001b[39m]:\n",
      "File \u001b[0;32m/anaconda/envs/azureml_py310_sdkv2/lib/python3.10/site-packages/azure/core/pipeline/_base.py:229\u001b[0m, in \u001b[0;36mPipeline.run\u001b[0;34m(self, request, **kwargs)\u001b[0m\n\u001b[1;32m    227\u001b[0m pipeline_request: PipelineRequest[HTTPRequestType] \u001b[38;5;241m=\u001b[39m PipelineRequest(request, context)\n\u001b[1;32m    228\u001b[0m first_node \u001b[38;5;241m=\u001b[39m \u001b[38;5;28mself\u001b[39m\u001b[38;5;241m.\u001b[39m_impl_policies[\u001b[38;5;241m0\u001b[39m] \u001b[38;5;28;01mif\u001b[39;00m \u001b[38;5;28mself\u001b[39m\u001b[38;5;241m.\u001b[39m_impl_policies \u001b[38;5;28;01melse\u001b[39;00m _TransportRunner(\u001b[38;5;28mself\u001b[39m\u001b[38;5;241m.\u001b[39m_transport)\n\u001b[0;32m--> 229\u001b[0m \u001b[38;5;28;01mreturn\u001b[39;00m \u001b[43mfirst_node\u001b[49m\u001b[38;5;241;43m.\u001b[39;49m\u001b[43msend\u001b[49m\u001b[43m(\u001b[49m\u001b[43mpipeline_request\u001b[49m\u001b[43m)\u001b[49m\n",
      "File \u001b[0;32m/anaconda/envs/azureml_py310_sdkv2/lib/python3.10/site-packages/azure/core/pipeline/_base.py:86\u001b[0m, in \u001b[0;36m_SansIOHTTPPolicyRunner.send\u001b[0;34m(self, request)\u001b[0m\n\u001b[1;32m     84\u001b[0m _await_result(\u001b[38;5;28mself\u001b[39m\u001b[38;5;241m.\u001b[39m_policy\u001b[38;5;241m.\u001b[39mon_request, request)\n\u001b[1;32m     85\u001b[0m \u001b[38;5;28;01mtry\u001b[39;00m:\n\u001b[0;32m---> 86\u001b[0m     response \u001b[38;5;241m=\u001b[39m \u001b[38;5;28;43mself\u001b[39;49m\u001b[38;5;241;43m.\u001b[39;49m\u001b[43mnext\u001b[49m\u001b[38;5;241;43m.\u001b[39;49m\u001b[43msend\u001b[49m\u001b[43m(\u001b[49m\u001b[43mrequest\u001b[49m\u001b[43m)\u001b[49m\n\u001b[1;32m     87\u001b[0m \u001b[38;5;28;01mexcept\u001b[39;00m \u001b[38;5;167;01mException\u001b[39;00m:  \u001b[38;5;66;03m# pylint: disable=broad-except\u001b[39;00m\n\u001b[1;32m     88\u001b[0m     _await_result(\u001b[38;5;28mself\u001b[39m\u001b[38;5;241m.\u001b[39m_policy\u001b[38;5;241m.\u001b[39mon_exception, request)\n",
      "File \u001b[0;32m/anaconda/envs/azureml_py310_sdkv2/lib/python3.10/site-packages/azure/core/pipeline/_base.py:86\u001b[0m, in \u001b[0;36m_SansIOHTTPPolicyRunner.send\u001b[0;34m(self, request)\u001b[0m\n\u001b[1;32m     84\u001b[0m _await_result(\u001b[38;5;28mself\u001b[39m\u001b[38;5;241m.\u001b[39m_policy\u001b[38;5;241m.\u001b[39mon_request, request)\n\u001b[1;32m     85\u001b[0m \u001b[38;5;28;01mtry\u001b[39;00m:\n\u001b[0;32m---> 86\u001b[0m     response \u001b[38;5;241m=\u001b[39m \u001b[38;5;28;43mself\u001b[39;49m\u001b[38;5;241;43m.\u001b[39;49m\u001b[43mnext\u001b[49m\u001b[38;5;241;43m.\u001b[39;49m\u001b[43msend\u001b[49m\u001b[43m(\u001b[49m\u001b[43mrequest\u001b[49m\u001b[43m)\u001b[49m\n\u001b[1;32m     87\u001b[0m \u001b[38;5;28;01mexcept\u001b[39;00m \u001b[38;5;167;01mException\u001b[39;00m:  \u001b[38;5;66;03m# pylint: disable=broad-except\u001b[39;00m\n\u001b[1;32m     88\u001b[0m     _await_result(\u001b[38;5;28mself\u001b[39m\u001b[38;5;241m.\u001b[39m_policy\u001b[38;5;241m.\u001b[39mon_exception, request)\n",
      "    \u001b[0;31m[... skipping similar frames: _SansIOHTTPPolicyRunner.send at line 86 (2 times)]\u001b[0m\n",
      "File \u001b[0;32m/anaconda/envs/azureml_py310_sdkv2/lib/python3.10/site-packages/azure/core/pipeline/_base.py:86\u001b[0m, in \u001b[0;36m_SansIOHTTPPolicyRunner.send\u001b[0;34m(self, request)\u001b[0m\n\u001b[1;32m     84\u001b[0m _await_result(\u001b[38;5;28mself\u001b[39m\u001b[38;5;241m.\u001b[39m_policy\u001b[38;5;241m.\u001b[39mon_request, request)\n\u001b[1;32m     85\u001b[0m \u001b[38;5;28;01mtry\u001b[39;00m:\n\u001b[0;32m---> 86\u001b[0m     response \u001b[38;5;241m=\u001b[39m \u001b[38;5;28;43mself\u001b[39;49m\u001b[38;5;241;43m.\u001b[39;49m\u001b[43mnext\u001b[49m\u001b[38;5;241;43m.\u001b[39;49m\u001b[43msend\u001b[49m\u001b[43m(\u001b[49m\u001b[43mrequest\u001b[49m\u001b[43m)\u001b[49m\n\u001b[1;32m     87\u001b[0m \u001b[38;5;28;01mexcept\u001b[39;00m \u001b[38;5;167;01mException\u001b[39;00m:  \u001b[38;5;66;03m# pylint: disable=broad-except\u001b[39;00m\n\u001b[1;32m     88\u001b[0m     _await_result(\u001b[38;5;28mself\u001b[39m\u001b[38;5;241m.\u001b[39m_policy\u001b[38;5;241m.\u001b[39mon_exception, request)\n",
      "File \u001b[0;32m/anaconda/envs/azureml_py310_sdkv2/lib/python3.10/site-packages/azure/core/pipeline/policies/_redirect.py:197\u001b[0m, in \u001b[0;36mRedirectPolicy.send\u001b[0;34m(self, request)\u001b[0m\n\u001b[1;32m    195\u001b[0m original_domain \u001b[38;5;241m=\u001b[39m get_domain(request\u001b[38;5;241m.\u001b[39mhttp_request\u001b[38;5;241m.\u001b[39murl) \u001b[38;5;28;01mif\u001b[39;00m redirect_settings[\u001b[38;5;124m\"\u001b[39m\u001b[38;5;124mallow\u001b[39m\u001b[38;5;124m\"\u001b[39m] \u001b[38;5;28;01melse\u001b[39;00m \u001b[38;5;28;01mNone\u001b[39;00m\n\u001b[1;32m    196\u001b[0m \u001b[38;5;28;01mwhile\u001b[39;00m retryable:\n\u001b[0;32m--> 197\u001b[0m     response \u001b[38;5;241m=\u001b[39m \u001b[38;5;28;43mself\u001b[39;49m\u001b[38;5;241;43m.\u001b[39;49m\u001b[43mnext\u001b[49m\u001b[38;5;241;43m.\u001b[39;49m\u001b[43msend\u001b[49m\u001b[43m(\u001b[49m\u001b[43mrequest\u001b[49m\u001b[43m)\u001b[49m\n\u001b[1;32m    198\u001b[0m     redirect_location \u001b[38;5;241m=\u001b[39m \u001b[38;5;28mself\u001b[39m\u001b[38;5;241m.\u001b[39mget_redirect_location(response)\n\u001b[1;32m    199\u001b[0m     \u001b[38;5;28;01mif\u001b[39;00m redirect_location \u001b[38;5;129;01mand\u001b[39;00m redirect_settings[\u001b[38;5;124m\"\u001b[39m\u001b[38;5;124mallow\u001b[39m\u001b[38;5;124m\"\u001b[39m]:\n",
      "File \u001b[0;32m/anaconda/envs/azureml_py310_sdkv2/lib/python3.10/site-packages/azure/core/pipeline/policies/_retry.py:532\u001b[0m, in \u001b[0;36mRetryPolicy.send\u001b[0;34m(self, request)\u001b[0m\n\u001b[1;32m    530\u001b[0m \u001b[38;5;28mself\u001b[39m\u001b[38;5;241m.\u001b[39m_configure_timeout(request, absolute_timeout, is_response_error)\n\u001b[1;32m    531\u001b[0m request\u001b[38;5;241m.\u001b[39mcontext[\u001b[38;5;124m\"\u001b[39m\u001b[38;5;124mretry_count\u001b[39m\u001b[38;5;124m\"\u001b[39m] \u001b[38;5;241m=\u001b[39m \u001b[38;5;28mlen\u001b[39m(retry_settings[\u001b[38;5;124m\"\u001b[39m\u001b[38;5;124mhistory\u001b[39m\u001b[38;5;124m\"\u001b[39m])\n\u001b[0;32m--> 532\u001b[0m response \u001b[38;5;241m=\u001b[39m \u001b[38;5;28;43mself\u001b[39;49m\u001b[38;5;241;43m.\u001b[39;49m\u001b[43mnext\u001b[49m\u001b[38;5;241;43m.\u001b[39;49m\u001b[43msend\u001b[49m\u001b[43m(\u001b[49m\u001b[43mrequest\u001b[49m\u001b[43m)\u001b[49m\n\u001b[1;32m    533\u001b[0m \u001b[38;5;28;01mif\u001b[39;00m \u001b[38;5;28mself\u001b[39m\u001b[38;5;241m.\u001b[39mis_retry(retry_settings, response):\n\u001b[1;32m    534\u001b[0m     retry_active \u001b[38;5;241m=\u001b[39m \u001b[38;5;28mself\u001b[39m\u001b[38;5;241m.\u001b[39mincrement(retry_settings, response\u001b[38;5;241m=\u001b[39mresponse)\n",
      "File \u001b[0;32m/anaconda/envs/azureml_py310_sdkv2/lib/python3.10/site-packages/azure/core/pipeline/_base.py:86\u001b[0m, in \u001b[0;36m_SansIOHTTPPolicyRunner.send\u001b[0;34m(self, request)\u001b[0m\n\u001b[1;32m     84\u001b[0m _await_result(\u001b[38;5;28mself\u001b[39m\u001b[38;5;241m.\u001b[39m_policy\u001b[38;5;241m.\u001b[39mon_request, request)\n\u001b[1;32m     85\u001b[0m \u001b[38;5;28;01mtry\u001b[39;00m:\n\u001b[0;32m---> 86\u001b[0m     response \u001b[38;5;241m=\u001b[39m \u001b[38;5;28;43mself\u001b[39;49m\u001b[38;5;241;43m.\u001b[39;49m\u001b[43mnext\u001b[49m\u001b[38;5;241;43m.\u001b[39;49m\u001b[43msend\u001b[49m\u001b[43m(\u001b[49m\u001b[43mrequest\u001b[49m\u001b[43m)\u001b[49m\n\u001b[1;32m     87\u001b[0m \u001b[38;5;28;01mexcept\u001b[39;00m \u001b[38;5;167;01mException\u001b[39;00m:  \u001b[38;5;66;03m# pylint: disable=broad-except\u001b[39;00m\n\u001b[1;32m     88\u001b[0m     _await_result(\u001b[38;5;28mself\u001b[39m\u001b[38;5;241m.\u001b[39m_policy\u001b[38;5;241m.\u001b[39mon_exception, request)\n",
      "File \u001b[0;32m/anaconda/envs/azureml_py310_sdkv2/lib/python3.10/site-packages/azure/core/pipeline/_base.py:86\u001b[0m, in \u001b[0;36m_SansIOHTTPPolicyRunner.send\u001b[0;34m(self, request)\u001b[0m\n\u001b[1;32m     84\u001b[0m _await_result(\u001b[38;5;28mself\u001b[39m\u001b[38;5;241m.\u001b[39m_policy\u001b[38;5;241m.\u001b[39mon_request, request)\n\u001b[1;32m     85\u001b[0m \u001b[38;5;28;01mtry\u001b[39;00m:\n\u001b[0;32m---> 86\u001b[0m     response \u001b[38;5;241m=\u001b[39m \u001b[38;5;28;43mself\u001b[39;49m\u001b[38;5;241;43m.\u001b[39;49m\u001b[43mnext\u001b[49m\u001b[38;5;241;43m.\u001b[39;49m\u001b[43msend\u001b[49m\u001b[43m(\u001b[49m\u001b[43mrequest\u001b[49m\u001b[43m)\u001b[49m\n\u001b[1;32m     87\u001b[0m \u001b[38;5;28;01mexcept\u001b[39;00m \u001b[38;5;167;01mException\u001b[39;00m:  \u001b[38;5;66;03m# pylint: disable=broad-except\u001b[39;00m\n\u001b[1;32m     88\u001b[0m     _await_result(\u001b[38;5;28mself\u001b[39m\u001b[38;5;241m.\u001b[39m_policy\u001b[38;5;241m.\u001b[39mon_exception, request)\n",
      "    \u001b[0;31m[... skipping similar frames: _SansIOHTTPPolicyRunner.send at line 86 (3 times)]\u001b[0m\n",
      "File \u001b[0;32m/anaconda/envs/azureml_py310_sdkv2/lib/python3.10/site-packages/azure/core/pipeline/_base.py:86\u001b[0m, in \u001b[0;36m_SansIOHTTPPolicyRunner.send\u001b[0;34m(self, request)\u001b[0m\n\u001b[1;32m     84\u001b[0m _await_result(\u001b[38;5;28mself\u001b[39m\u001b[38;5;241m.\u001b[39m_policy\u001b[38;5;241m.\u001b[39mon_request, request)\n\u001b[1;32m     85\u001b[0m \u001b[38;5;28;01mtry\u001b[39;00m:\n\u001b[0;32m---> 86\u001b[0m     response \u001b[38;5;241m=\u001b[39m \u001b[38;5;28;43mself\u001b[39;49m\u001b[38;5;241;43m.\u001b[39;49m\u001b[43mnext\u001b[49m\u001b[38;5;241;43m.\u001b[39;49m\u001b[43msend\u001b[49m\u001b[43m(\u001b[49m\u001b[43mrequest\u001b[49m\u001b[43m)\u001b[49m\n\u001b[1;32m     87\u001b[0m \u001b[38;5;28;01mexcept\u001b[39;00m \u001b[38;5;167;01mException\u001b[39;00m:  \u001b[38;5;66;03m# pylint: disable=broad-except\u001b[39;00m\n\u001b[1;32m     88\u001b[0m     _await_result(\u001b[38;5;28mself\u001b[39m\u001b[38;5;241m.\u001b[39m_policy\u001b[38;5;241m.\u001b[39mon_exception, request)\n",
      "File \u001b[0;32m/anaconda/envs/azureml_py310_sdkv2/lib/python3.10/site-packages/azure/core/pipeline/_base.py:118\u001b[0m, in \u001b[0;36m_TransportRunner.send\u001b[0;34m(self, request)\u001b[0m\n\u001b[1;32m    108\u001b[0m \u001b[38;5;250m\u001b[39m\u001b[38;5;124;03m\"\"\"HTTP transport send method.\u001b[39;00m\n\u001b[1;32m    109\u001b[0m \n\u001b[1;32m    110\u001b[0m \u001b[38;5;124;03m:param request: The PipelineRequest object.\u001b[39;00m\n\u001b[0;32m   (...)\u001b[0m\n\u001b[1;32m    113\u001b[0m \u001b[38;5;124;03m:rtype: ~azure.core.pipeline.PipelineResponse\u001b[39;00m\n\u001b[1;32m    114\u001b[0m \u001b[38;5;124;03m\"\"\"\u001b[39;00m\n\u001b[1;32m    115\u001b[0m cleanup_kwargs_for_transport(request\u001b[38;5;241m.\u001b[39mcontext\u001b[38;5;241m.\u001b[39moptions)\n\u001b[1;32m    116\u001b[0m \u001b[38;5;28;01mreturn\u001b[39;00m PipelineResponse(\n\u001b[1;32m    117\u001b[0m     request\u001b[38;5;241m.\u001b[39mhttp_request,\n\u001b[0;32m--> 118\u001b[0m     \u001b[38;5;28;43mself\u001b[39;49m\u001b[38;5;241;43m.\u001b[39;49m\u001b[43m_sender\u001b[49m\u001b[38;5;241;43m.\u001b[39;49m\u001b[43msend\u001b[49m\u001b[43m(\u001b[49m\u001b[43mrequest\u001b[49m\u001b[38;5;241;43m.\u001b[39;49m\u001b[43mhttp_request\u001b[49m\u001b[43m,\u001b[49m\u001b[43m \u001b[49m\u001b[38;5;241;43m*\u001b[39;49m\u001b[38;5;241;43m*\u001b[39;49m\u001b[43mrequest\u001b[49m\u001b[38;5;241;43m.\u001b[39;49m\u001b[43mcontext\u001b[49m\u001b[38;5;241;43m.\u001b[39;49m\u001b[43moptions\u001b[49m\u001b[43m)\u001b[49m,\n\u001b[1;32m    119\u001b[0m     context\u001b[38;5;241m=\u001b[39mrequest\u001b[38;5;241m.\u001b[39mcontext,\n\u001b[1;32m    120\u001b[0m )\n",
      "File \u001b[0;32m/anaconda/envs/azureml_py310_sdkv2/lib/python3.10/site-packages/azure/core/pipeline/transport/_requests_basic.py:355\u001b[0m, in \u001b[0;36mRequestsTransport.send\u001b[0;34m(self, request, proxies, **kwargs)\u001b[0m\n\u001b[1;32m    353\u001b[0m         read_timeout \u001b[38;5;241m=\u001b[39m kwargs\u001b[38;5;241m.\u001b[39mpop(\u001b[38;5;124m\"\u001b[39m\u001b[38;5;124mread_timeout\u001b[39m\u001b[38;5;124m\"\u001b[39m, \u001b[38;5;28mself\u001b[39m\u001b[38;5;241m.\u001b[39mconnection_config\u001b[38;5;241m.\u001b[39mread_timeout)\n\u001b[1;32m    354\u001b[0m         timeout \u001b[38;5;241m=\u001b[39m (connection_timeout, read_timeout)\n\u001b[0;32m--> 355\u001b[0m     response \u001b[38;5;241m=\u001b[39m \u001b[38;5;28;43mself\u001b[39;49m\u001b[38;5;241;43m.\u001b[39;49m\u001b[43msession\u001b[49m\u001b[38;5;241;43m.\u001b[39;49m\u001b[43mrequest\u001b[49m\u001b[43m(\u001b[49m\u001b[43m  \u001b[49m\u001b[38;5;66;43;03m# type: ignore\u001b[39;49;00m\n\u001b[1;32m    356\u001b[0m \u001b[43m        \u001b[49m\u001b[43mrequest\u001b[49m\u001b[38;5;241;43m.\u001b[39;49m\u001b[43mmethod\u001b[49m\u001b[43m,\u001b[49m\n\u001b[1;32m    357\u001b[0m \u001b[43m        \u001b[49m\u001b[43mrequest\u001b[49m\u001b[38;5;241;43m.\u001b[39;49m\u001b[43murl\u001b[49m\u001b[43m,\u001b[49m\n\u001b[1;32m    358\u001b[0m \u001b[43m        \u001b[49m\u001b[43mheaders\u001b[49m\u001b[38;5;241;43m=\u001b[39;49m\u001b[43mrequest\u001b[49m\u001b[38;5;241;43m.\u001b[39;49m\u001b[43mheaders\u001b[49m\u001b[43m,\u001b[49m\n\u001b[1;32m    359\u001b[0m \u001b[43m        \u001b[49m\u001b[43mdata\u001b[49m\u001b[38;5;241;43m=\u001b[39;49m\u001b[43mrequest\u001b[49m\u001b[38;5;241;43m.\u001b[39;49m\u001b[43mdata\u001b[49m\u001b[43m,\u001b[49m\n\u001b[1;32m    360\u001b[0m \u001b[43m        \u001b[49m\u001b[43mfiles\u001b[49m\u001b[38;5;241;43m=\u001b[39;49m\u001b[43mrequest\u001b[49m\u001b[38;5;241;43m.\u001b[39;49m\u001b[43mfiles\u001b[49m\u001b[43m,\u001b[49m\n\u001b[1;32m    361\u001b[0m \u001b[43m        \u001b[49m\u001b[43mverify\u001b[49m\u001b[38;5;241;43m=\u001b[39;49m\u001b[43mkwargs\u001b[49m\u001b[38;5;241;43m.\u001b[39;49m\u001b[43mpop\u001b[49m\u001b[43m(\u001b[49m\u001b[38;5;124;43m\"\u001b[39;49m\u001b[38;5;124;43mconnection_verify\u001b[39;49m\u001b[38;5;124;43m\"\u001b[39;49m\u001b[43m,\u001b[49m\u001b[43m \u001b[49m\u001b[38;5;28;43mself\u001b[39;49m\u001b[38;5;241;43m.\u001b[39;49m\u001b[43mconnection_config\u001b[49m\u001b[38;5;241;43m.\u001b[39;49m\u001b[43mverify\u001b[49m\u001b[43m)\u001b[49m\u001b[43m,\u001b[49m\n\u001b[1;32m    362\u001b[0m \u001b[43m        \u001b[49m\u001b[43mtimeout\u001b[49m\u001b[38;5;241;43m=\u001b[39;49m\u001b[43mtimeout\u001b[49m\u001b[43m,\u001b[49m\n\u001b[1;32m    363\u001b[0m \u001b[43m        \u001b[49m\u001b[43mcert\u001b[49m\u001b[38;5;241;43m=\u001b[39;49m\u001b[43mkwargs\u001b[49m\u001b[38;5;241;43m.\u001b[39;49m\u001b[43mpop\u001b[49m\u001b[43m(\u001b[49m\u001b[38;5;124;43m\"\u001b[39;49m\u001b[38;5;124;43mconnection_cert\u001b[39;49m\u001b[38;5;124;43m\"\u001b[39;49m\u001b[43m,\u001b[49m\u001b[43m \u001b[49m\u001b[38;5;28;43mself\u001b[39;49m\u001b[38;5;241;43m.\u001b[39;49m\u001b[43mconnection_config\u001b[49m\u001b[38;5;241;43m.\u001b[39;49m\u001b[43mcert\u001b[49m\u001b[43m)\u001b[49m\u001b[43m,\u001b[49m\n\u001b[1;32m    364\u001b[0m \u001b[43m        \u001b[49m\u001b[43mallow_redirects\u001b[49m\u001b[38;5;241;43m=\u001b[39;49m\u001b[38;5;28;43;01mFalse\u001b[39;49;00m\u001b[43m,\u001b[49m\n\u001b[1;32m    365\u001b[0m \u001b[43m        \u001b[49m\u001b[43mproxies\u001b[49m\u001b[38;5;241;43m=\u001b[39;49m\u001b[43mproxies\u001b[49m\u001b[43m,\u001b[49m\n\u001b[1;32m    366\u001b[0m \u001b[43m        \u001b[49m\u001b[38;5;241;43m*\u001b[39;49m\u001b[38;5;241;43m*\u001b[39;49m\u001b[43mkwargs\u001b[49m\n\u001b[1;32m    367\u001b[0m \u001b[43m    \u001b[49m\u001b[43m)\u001b[49m\n\u001b[1;32m    368\u001b[0m     response\u001b[38;5;241m.\u001b[39mraw\u001b[38;5;241m.\u001b[39menforce_content_length \u001b[38;5;241m=\u001b[39m \u001b[38;5;28;01mTrue\u001b[39;00m\n\u001b[1;32m    370\u001b[0m \u001b[38;5;28;01mexcept\u001b[39;00m \u001b[38;5;167;01mAttributeError\u001b[39;00m \u001b[38;5;28;01mas\u001b[39;00m err:\n",
      "\u001b[0;31mTypeError\u001b[0m: Session.request() got an unexpected keyword argument 'from_parameter'"
     ]
    }
   ],
   "source": [
    "from azure.ai.translation.text import TextTranslationClient\n",
    "from azure.core.credentials import AzureKeyCredential\n",
    "\n",
    "# Azure Translator resource details\n",
    "endpoint = \"https://translator-bhrth-test.cognitiveservices.azure.com/\"\n",
    "key = \"DGV0QvQAn6RO72ngb4y5hCFiSGgOgGnH9FTyyGZTys6XJQQJ99BCAC4f1cMXJ\"\n",
    "region = \"westus\"\n",
    "\n",
    "# Create the client\n",
    "client = TextTranslationClient(\n",
    "    endpoint=endpoint,\n",
    "    credential=AzureKeyCredential(key),\n",
    "    region=region\n",
    ")\n",
    "\n",
    "# Input\n",
    "body = [{\"text\": \"Good morning!\"}]\n",
    "\n",
    "# Translate\n",
    "response = client.translate(\n",
    "    body=body,\n",
    "    to_language=[\"fr\", \"es\"],\n",
    "    from_parameter=\"en\"\n",
    ")\n",
    "\n",
    "# Output results\n",
    "for item in response:\n",
    "    for translation in item.translations:\n",
    "        print(f\"{translation.to_language}: {translation.text}\")\n"
   ]
  },
  {
   "cell_type": "code",
   "execution_count": 3,
   "id": "cb1678d8-42c5-4dff-82ca-46191c598a45",
   "metadata": {
    "tags": []
   },
   "outputs": [
    {
     "name": "stdout",
     "output_type": "stream",
     "text": [
      "fr: Bonjour!\n",
      "es: ¡Buenos días!\n"
     ]
    }
   ],
   "source": [
    "from azure.ai.translation.text import TextTranslationClient\n",
    "from azure.core.credentials import AzureKeyCredential\n",
    "\n",
    "# Azure Translator resource details\n",
    "endpoint = \"https://translator-bhrth-test.cognitiveservices.azure.com/\"\n",
    "key = \"DGV0QvQAn6RO72ngb4y5hCFiSGgOgGnH9FTyyGZTys6XJQQJ99BCAC4f1cMXJ3\"\n",
    "region = \"westus\"\n",
    "\n",
    "# Create the client\n",
    "client = TextTranslationClient(\n",
    "    endpoint=endpoint,\n",
    "    credential=AzureKeyCredential(key),\n",
    "    region=region\n",
    ")\n",
    "\n",
    "# Input\n",
    "body = [{\"text\": \"Good morning!\"}]\n",
    "\n",
    "# Translate\n",
    "response = client.translate(\n",
    "    body=body,\n",
    "    to_language=[\"fr\", \"es\"],\n",
    "    from_language=\"en\"\n",
    ")\n",
    "\n",
    "# Output results\n",
    "for item in response:\n",
    "    for translation in item.translations:\n",
    "        print(f\"{translation.to}: {translation.text}\")\n"
   ]
  },
  {
   "cell_type": "code",
   "execution_count": null,
   "id": "100cfebb-bc0b-4767-bf88-a8a9bfad3f75",
   "metadata": {},
   "outputs": [],
   "source": []
  },
  {
   "cell_type": "code",
   "execution_count": 5,
   "id": "4fd9a2e7-d20f-49ed-9386-49499ca480d6",
   "metadata": {
    "tags": []
   },
   "outputs": [
    {
     "name": "stdout",
     "output_type": "stream",
     "text": [
      "fr: Bonjour!\n",
      "es: ¡Buenos días!\n"
     ]
    }
   ],
   "source": [
    "from azure.ai.translation.text import TextTranslationClient\n",
    "from azure.core.credentials import AzureKeyCredential\n",
    "\n",
    "# Azure Translator resource details\n",
    "endpoint = \"https://translator-bhrth-test.cognitiveservices.azure.com/\"\n",
    "key = \"DGV0QvQAn6RO72ngb4y5hCFiSGgOgGnH9FTyyGZTys6XJQQJ99BCAC4f1cMXJ3\"\n",
    "region = \"westus\"\n",
    "\n",
    "# Create the client\n",
    "client = TextTranslationClient(\n",
    "    endpoint=endpoint,\n",
    "    credential=AzureKeyCredential(key),\n",
    "    region=region\n",
    ")\n",
    "\n",
    "# Input\n",
    "body = [{\"text\": \"Good morning!\"}]\n",
    "\n",
    "# Translate\n",
    "response = client.translate(\n",
    "    body=body,\n",
    "    to_language=[\"fr\", \"es\"],\n",
    "    from_language=\"en\"\n",
    ")\n",
    "\n",
    "# Output results\n",
    "for item in response:\n",
    "    for translation in item.translations:\n",
    "        print(f\"{translation.to}: {translation.text}\")"
   ]
  },
  {
   "cell_type": "code",
   "execution_count": 6,
   "id": "dcedfe9e-0482-4601-aecb-2e2e2740b2f6",
   "metadata": {
    "tags": []
   },
   "outputs": [
    {
     "name": "stdout",
     "output_type": "stream",
     "text": [
      "fr: Bonjour!\n",
      "es: ¡Buenos días!\n"
     ]
    }
   ],
   "source": [
    "from azure.ai.translation.text import TextTranslationClient\n",
    "from azure.core.credentials import AzureKeyCredential\n",
    "\n",
    "# Azure Translator resource details\n",
    "endpoint = \"https://translator-bhrth-test.cognitiveservices.azure.com/\"\n",
    "key = \"DGV0QvQAn6RO72ngb4y5hCFiSGgOgGnH9FTyyGZTys6XJQQJ99BCAC4f1cMXJ3\"\n",
    "region = \"westus\"\n",
    "\n",
    "# Create the client\n",
    "client = TextTranslationClient(\n",
    "    endpoint=endpoint,\n",
    "    credential=AzureKeyCredential(key),\n",
    "    region=region\n",
    ")\n",
    "\n",
    "# Input\n",
    "body = [{\"text\": \"Good morning!\"}]\n",
    "\n",
    "# Translate\n",
    "response = client.translate(\n",
    "    body=body,\n",
    "    to_language=[\"fr\", \"es\"],\n",
    "    from_language=\"en\"\n",
    ")\n",
    "\n",
    "# Output results\n",
    "for item in response:\n",
    "    for translation in item.translations:\n",
    "        print(f\"{translation.to}: {translation.text}\")"
   ]
  },
  {
   "cell_type": "code",
   "execution_count": 7,
   "id": "23bddcbb-186f-4511-b6e3-3337bf0fa32c",
   "metadata": {
    "tags": []
   },
   "outputs": [
    {
     "name": "stdout",
     "output_type": "stream",
     "text": [
      "fr: Bonjour!\n",
      "es: ¡Buenos días!\n"
     ]
    }
   ],
   "source": [
    "from azure.ai.translation.text import TextTranslationClient\n",
    "from azure.core.credentials import AzureKeyCredential\n",
    "\n",
    "# Azure Translator resource details\n",
    "endpoint = \"https://translator-bhrth-test.cognitiveservices.azure.com/\"\n",
    "key = \"DGV0QvQAn6RO72ngb4y5hCFiSGgOgGnH9FTyyGZTys6XJQQJ99BCAC4f1cMXJ3\"\n",
    "region = \"westus\"\n",
    "\n",
    "# Create the client\n",
    "client = TextTranslationClient(\n",
    "    endpoint=endpoint,\n",
    "    credential=AzureKeyCredential(key),\n",
    "    region=region\n",
    ")\n",
    "\n",
    "# Input\n",
    "body = [{\"text\": \"Good morning!\"}]\n",
    "\n",
    "# Translate\n",
    "response = client.translate(\n",
    "    body=body,\n",
    "    to_language=[\"fr\", \"es\"],\n",
    "    from_language=\"en\"\n",
    ")\n",
    "\n",
    "# Output results\n",
    "for item in response:\n",
    "    for translation in item.translations:\n",
    "        print(f\"{translation.to}: {translation.text}\")"
   ]
  },
  {
   "cell_type": "code",
   "execution_count": 8,
   "id": "00856216-66f5-491c-aa8b-3016b57b6e6b",
   "metadata": {
    "tags": []
   },
   "outputs": [
    {
     "name": "stdout",
     "output_type": "stream",
     "text": [
      "fr: Bonjour!\n",
      "es: ¡Buenos días!\n"
     ]
    }
   ],
   "source": [
    "from azure.ai.translation.text import TextTranslationClient\n",
    "from azure.core.credentials import AzureKeyCredential\n",
    "\n",
    "# Azure Translator resource details\n",
    "endpoint = \"https://translator-bhrth-test.cognitiveservices.azure.com/\"\n",
    "key = \"DGV0QvQAn6RO72ngb4y5hCFiSGgOgGnH9FTyyGZTys6XJQQJ99BCAC4\"\n",
    "region = \"westus\"\n",
    "f1cMXJ3\n",
    "# Create the client\n",
    "client = TextTranslationClient(\n",
    "    endpoint=endpoint,\n",
    "    credential=AzureKeyCredential(key),\n",
    "    region=region\n",
    ")\n",
    "\n",
    "# Input\n",
    "body = [{\"text\": \"Good morning!\"}]\n",
    "\n",
    "# Translate\n",
    "response = client.translate(\n",
    "    body=body,\n",
    "    to_language=[\"fr\", \"es\"],\n",
    "    from_language=\"en\"\n",
    ")\n",
    "\n",
    "# Output results\n",
    "for item in response:\n",
    "    for translation in item.translations:\n",
    "        print(f\"{translation.to}: {translation.text}\")"
   ]
  },
  {
   "cell_type": "code",
   "execution_count": null,
   "id": "d8f920b5-fdcd-48ba-8067-3efb9c0c09bd",
   "metadata": {
    "tags": []
   },
   "outputs": [],
   "source": [
    "from azure.ai.translation.text import TextTranslationClient\n",
    "from azure.core.credentials import AzureKeyCredential\n",
    "\n",
    "# Azure Translator resource details\n",
    "endpoint = \"https://translator-bhrth-test.cognitiveservices.azure.com/\"\n",
    "key = \"DGV0QvQAn6RO72ngb4y5hCFiSGgOgGnH9FTyyGZTys6XJQQJ99BCAC4f1cMXJ3\"\n",
    "region = \"westus\"\n",
    "\n",
    "# Create the client\n",
    "client = TextTranslationClient(\n",
    "    endpoint=endpoint,\n",
    "    credential=AzureKeyCredential(key),\n",
    "    region=region\n",
    ")\n",
    "\n",
    "# Input\n",
    "body = [{\"text\": \"Good morning!\"}]\n",
    "\n",
    "# Translate\n",
    "response = client.translate(\n",
    "    body=body,\n",
    "    to_language=[\"fr\", \"es\"],\n",
    "    from_language=\"en\"\n",
    ")\n",
    "\n",
    "# Output results\n",
    "for item in response:\n",
    "    for translation in item.translations:\n",
    "        print(f\"{translation.to}: {translation.text}\")"
   ]
  },
  {
   "cell_type": "code",
   "execution_count": 9,
   "id": "b9b4521d-b71c-4487-bc89-7bb316847d80",
   "metadata": {
    "tags": []
   },
   "outputs": [
    {
     "name": "stdout",
     "output_type": "stream",
     "text": [
      "fr: Bonjour!\n",
      "es: ¡Buenos días!\n"
     ]
    }
   ],
   "source": [
    "from azure.ai.translation.text import TextTranslationClient\n",
    "from azure.core.credentials import AzureKeyCredential\n",
    "\n",
    "# Azure Translator resource details\n",
    "endpoint = \"https://translator-bhrth-test.cognitiveservices.azure.com/\"\n",
    "key = \"DGV0QvQAn6RO72ngb4y5hCFiSGgOgGnH9FTyyGZTys6XJQQJ99BCAC4f1cMXJ3\"\n",
    "region = \"westus\"\n",
    "\n",
    "# Create the client\n",
    "client = TextTranslationClient(\n",
    "    endpoint=endpoint,\n",
    "    credential=AzureKeyCredential(key),\n",
    "    region=region\n",
    ")\n",
    "\n",
    "# Input\n",
    "body = [{\"text\": \"Good morning!\"}]\n",
    "\n",
    "# Translate\n",
    "response = client.translate(\n",
    "    body=body,\n",
    "    to_language=[\"fr\", \"es\"],\n",
    "    from_language=\"en\"\n",
    ")\n",
    "\n",
    "# Output results\n",
    "for item in response:\n",
    "    for translation in item.translations:\n",
    "        print(f\"{translation.to}: {translation.text}\")\n"
   ]
  },
  {
   "cell_type": "code",
   "execution_count": 12,
   "id": "f6e38437-fe72-4e85-a13b-bdc4b2a9f053",
   "metadata": {
    "tags": []
   },
   "outputs": [
    {
     "name": "stdout",
     "output_type": "stream",
     "text": [
      "Detected languages of the input text: en with score: 1.0.\n",
      "Text was translated to: 'cs' and the result is: 'Tohle je test'.\n",
      "Text was translated to: 'es' and the result is: 'Esto es una prueba'.\n",
      "Text was translated to: 'de' and the result is: 'Dies ist ein Test'.\n",
      "Text was translated to: 'te' and the result is: 'ఇది ఒక పరీక్ష'.\n",
      "Text was translated to: 'ta' and the result is: 'இது ஒரு சோதனை'.\n",
      "Text was translated to: 'hi' and the result is: 'यह एक कसौटी है'.\n"
     ]
    }
   ],
   "source": [
    "from azure.ai.translation.text import TextTranslationClient\n",
    "from azure.core.credentials import AzureKeyCredential\n",
    "from azure.core.exceptions import HttpResponseError\n",
    "\n",
    "# Azure Translator resource details\n",
    "endpoint = \"https://translator-bhrth-test.cognitiveservices.azure.com/\"\n",
    "key = \"DGV0QvQAn6RO72ngb4y5hCFiSGgOgGnH9FTyyGZTys6XJQQJ99BCAC4f1cMXJ3\"\n",
    "region = \"westus\"\n",
    "\n",
    "# Create the client\n",
    "text_translator = TextTranslationClient(\n",
    "    endpoint=endpoint,\n",
    "    credential=AzureKeyCredential(key),\n",
    "    region=region\n",
    ")\n",
    "\n",
    "\n",
    "try:\n",
    "    to_language = [\"cs\", \"es\", \"de\", \"te\", \"ta\", \"hi\"]\n",
    "    input_text_elements = [\"This is a test\"]\n",
    "\n",
    "    response = text_translator.translate(body=input_text_elements, to_language=to_language)\n",
    "    translation = response[0] if response else None\n",
    "\n",
    "    if translation:\n",
    "        detected_language = translation.detected_language\n",
    "        if detected_language:\n",
    "            print(\n",
    "                f\"Detected languages of the input text: {detected_language.language} with score: {detected_language.score}.\"\n",
    "            )\n",
    "        for translated_text in translation.translations:\n",
    "            print(f\"Text was translated to: '{translated_text.to}' and the result is: '{translated_text.text}'.\")\n",
    "\n",
    "except HttpResponseError as exception:\n",
    "    if exception.error is not None:\n",
    "        print(f\"Error Code: {exception.error.code}\")\n",
    "        print(f\"Message: {exception.error.message}\")\n",
    "\n"
   ]
  },
  {
   "cell_type": "code",
   "execution_count": 13,
   "id": "2a0324a0-8f60-464c-b700-8a2054aa1fda",
   "metadata": {
    "tags": []
   },
   "outputs": [
    {
     "name": "stdout",
     "output_type": "stream",
     "text": [
      "Detected languages of the input text: en with score: 1.0.\n",
      "Text was translated to: 'cs' and the result is: 'Tohle je test'.\n",
      "Text was translated to: 'es' and the result is: 'Esto es una prueba'.\n",
      "Text was translated to: 'de' and the result is: 'Dies ist ein Test'.\n",
      "Text was translated to: 'te' and the result is: 'ఇది ఒక పరీక్ష'.\n",
      "Text was translated to: 'ta' and the result is: 'இது ஒரு சோதனை'.\n",
      "Text was translated to: 'hi' and the result is: 'यह एक कसौटी है'.\n"
     ]
    }
   ],
   "source": [
    "from azure.ai.translation.text import TextTranslationClient\n",
    "from azure.core.credentials import AzureKeyCredential\n",
    "from azure.core.exceptions import HttpResponseError\n",
    "\n",
    "# Azure Translator resource details\n",
    "endpoint = \"https://translator-bhrth-test.cognitiveservices.azure.com/\"\n",
    "key = \"DGV0QvQAn6RO72ngb4y5hCFiSGgOgGnH9FTyyGZTys6XJQQJ99BCAC4f1cMXJ3\"\n",
    "region = \"westus\"\n",
    "\n",
    "# Create the client\n",
    "text_translator = TextTranslationClient(\n",
    "    endpoint=endpoint,\n",
    "    credential=AzureKeyCredential(key),\n",
    "    region=region\n",
    ")\n",
    "\n",
    "\n",
    "try:\n",
    "    to_language = [\"cs\", \"es\", \"de\", \"te\", \"ta\", \"hi\"]\n",
    "    input_text_elements = [\"This is a test\"]\n",
    "\n",
    "    response = text_translator.translate(body=input_text_elements, to_language=to_language)\n",
    "    translation = response[0] if response else None\n",
    "\n",
    "    if translation:\n",
    "        detected_language = translation.detected_language\n",
    "        if detected_language:\n",
    "            print(\n",
    "                f\"Detected languages of the input text: {detected_language.language} with score: {detected_language.score}.\"\n",
    "            )\n",
    "        for translated_text in translation.translations:\n",
    "            print(f\"Text was translated to: '{translated_text.to}' and the result is: '{translated_text.text}'.\")\n",
    "\n",
    "except HttpResponseError as exception:\n",
    "    if exception.error is not None:\n",
    "        print(f\"Error Code: {exception.error.code}\")\n",
    "        print(f\"Message: {exception.error.message}\")"
   ]
  },
  {
   "cell_type": "code",
   "execution_count": null,
   "id": "d7fd0b1f-686b-47ef-a86e-94e56c7388b4",
   "metadata": {},
   "outputs": [],
   "source": [
    "from azure.ai.translation.text import TextTranslationClient\n",
    "from azure.core.credentials import AzureKeyCredential\n",
    "from azure.core.exceptions import HttpResponseError\n",
    "\n",
    "# Azure Translator resource details\n",
    "endpoint = \"https://translator-bhrth-test.cognitiveservices.azure.com/\"\n",
    "key = \"DGV0QvQAn6RO72ngb4y5hCFiSGgOgGnH9FTyyGZTys6XJQQJ99BCAC4f1cMXJ3\"\n",
    "region = \"westus\"\n",
    "\n",
    "# Create the client\n",
    "text_translator = TextTranslationClient(\n",
    "    endpoint=endpoint,\n",
    "    credential=AzureKeyCredential(key),\n",
    "    region=region\n",
    ")\n",
    "\n",
    "\n",
    "try:\n",
    "    to_language = [\"cs\", \"es\", \"de\", \"te\", \"ta\", \"hi\"]\n",
    "    input_text_elements = [\"This is a test\"]\n",
    "\n",
    "    response = text_translator.translate(body=input_text_elements, to_language=to_language)\n",
    "    translation = response[0] if response else None\n",
    "\n",
    "    if translation:\n",
    "        detected_language = translation.detected_language\n",
    "        if detected_language:\n",
    "            print(\n",
    "                f\"Detected languages of the input text: {detected_language.language} with score: {detected_language.score}.\"\n",
    "            )\n",
    "        for translated_text in translation.translations:\n",
    "            print(f\"Text was translated to: '{translated_text.to}' and the result is: '{translated_text.text}'.\")\n",
    "\n",
    "except HttpResponseError as exception:\n",
    "    if exception.error is not None:\n",
    "        print(f\"Error Code: {exception.error.code}\")\n",
    "        print(f\"Message: {exception.error.message}\")"
   ]
  },
  {
   "cell_type": "code",
   "execution_count": null,
   "id": "d826d5b5-4dbe-409c-986d-462c319f2ac4",
   "metadata": {},
   "outputs": [],
   "source": []
  },
  {
   "cell_type": "code",
   "execution_count": 1,
   "id": "66775bc8-f4de-4685-9dd6-c40489163706",
   "metadata": {
    "tags": []
   },
   "outputs": [
    {
     "name": "stdout",
     "output_type": "stream",
     "text": [
      "Detected languages of the input text: en with score: 1.0.\n",
      "Text was translated to: 'cs' and the result is: 'Tohle je test'.\n",
      "Text was translated to: 'es' and the result is: 'Esto es una prueba'.\n",
      "Text was translated to: 'de' and the result is: 'Dies ist ein Test'.\n",
      "Text was translated to: 'te' and the result is: 'ఇది ఒక పరీక్ష'.\n",
      "Text was translated to: 'ta' and the result is: 'இது ஒரு சோதனை'.\n",
      "Text was translated to: 'hi' and the result is: 'यह एक कसौटी है'.\n"
     ]
    }
   ],
   "source": [
    "from azure.ai.translation.text import TextTranslationClient\n",
    "from azure.core.credentials import AzureKeyCredential\n",
    "from azure.core.exceptions import HttpResponseError\n",
    "\n",
    "# Azure Translator resource details\n",
    "endpoint = \"https://translator-bhrth-test.cognitiveservices.azure.com/\"\n",
    "key = \"DGV0QvQAn6RO72ngb4y5hCFiSGgOgGnH9FTyyGZTys6XJQQJ99BCAC4f1cMXJ3\"\n",
    "region = \"westus\"\n",
    "\n",
    "# Create the client\n",
    "text_translator = TextTranslationClient(\n",
    "    endpoint=endpoint,\n",
    "    credential=AzureKeyCredential(key),\n",
    "    region=region\n",
    ")\n",
    "\n",
    "\n",
    "try:\n",
    "    to_language = [\"cs\", \"es\", \"de\", \"te\", \"ta\", \"hi\"]\n",
    "    input_text_elements = [\"This is a test\"]\n",
    "\n",
    "    response = text_translator.translate(body=input_text_elements, to_language=to_language)\n",
    "    translation = response[0] if response else None\n",
    "\n",
    "    if translation:\n",
    "        detected_language = translation.detected_language\n",
    "        if detected_language:\n",
    "            print(\n",
    "                f\"Detected languages of the input text: {detected_language.language} with score: {detected_language.score}.\"\n",
    "            )\n",
    "        for translated_text in translation.translations:\n",
    "            print(f\"Text was translated to: '{translated_text.to}' and the result is: '{translated_text.text}'.\")\n",
    "\n",
    "except HttpResponseError as exception:\n",
    "    if exception.error is not None:\n",
    "        print(f\"Error Code: {exception.error.code}\")\n",
    "        print(f\"Message: {exception.error.message}\")"
   ]
  },
  {
   "cell_type": "code",
   "execution_count": null,
   "id": "758b58ac-e622-4c9f-bda3-6497ebe7c7f0",
   "metadata": {},
   "outputs": [],
   "source": []
  }
 ],
 "metadata": {
  "kernelspec": {
   "display_name": "Python 3.10 - SDK v2",
   "language": "python",
   "name": "python310-sdkv2"
  },
  "language_info": {
   "codemirror_mode": {
    "name": "ipython",
    "version": 3
   },
   "file_extension": ".py",
   "mimetype": "text/x-python",
   "name": "python",
   "nbconvert_exporter": "python",
   "pygments_lexer": "ipython3",
   "version": "3.10.14"
  }
 },
 "nbformat": 4,
 "nbformat_minor": 5
}
