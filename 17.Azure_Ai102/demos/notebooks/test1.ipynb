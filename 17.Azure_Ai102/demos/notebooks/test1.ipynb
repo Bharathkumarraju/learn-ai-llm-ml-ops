{
 "cells": [
  {
   "cell_type": "code",
   "execution_count": null,
   "id": "439010c1-aa57-4869-b6c1-39ce7379a7db",
   "metadata": {},
   "outputs": [],
   "source": [
    "import os"
   ]
  },
  {
   "cell_type": "markdown",
   "id": "6d35263e-ac02-4899-b0e2-1b1683b03fc2",
   "metadata": {},
   "source": []
  },
  {
   "cell_type": "code",
   "execution_count": 4,
   "id": "f69a10fb-d89b-40c0-b7e4-6c18a46e25e5",
   "metadata": {
    "tags": []
   },
   "outputs": [
    {
     "name": "stdout",
     "output_type": "stream",
     "text": [
      "env: MY_TEST_VAR=\"hello 123\"\n",
      "\"hello 123\"\n"
     ]
    }
   ],
   "source": [
    "%env MY_TEST_VAR=\"hello 123\"\n",
    "\n",
    "api_key=os.environ['MY_TEST_VAR']\n",
    "print(api_key)\n"
   ]
  },
  {
   "cell_type": "code",
   "execution_count": null,
   "id": "9e8eac78-52bd-42b4-b5c0-55b8ad6d18f0",
   "metadata": {},
   "outputs": [],
   "source": []
  }
 ],
 "metadata": {
  "kernelspec": {
   "display_name": "Python 3.8 - AzureML",
   "language": "python",
   "name": "python38-azureml"
  },
  "language_info": {
   "codemirror_mode": {
    "name": "ipython",
    "version": 3
   },
   "file_extension": ".py",
   "mimetype": "text/x-python",
   "name": "python",
   "nbconvert_exporter": "python",
   "pygments_lexer": "ipython3",
   "version": "3.10.11"
  }
 },
 "nbformat": 4,
 "nbformat_minor": 5
}
